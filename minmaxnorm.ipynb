{
  "nbformat": 4,
  "nbformat_minor": 0,
  "metadata": {
    "colab": {
      "name": "minmaxnorm.ipynb",
      "version": "0.3.2",
      "provenance": [],
      "collapsed_sections": [],
      "include_colab_link": true
    },
    "kernelspec": {
      "name": "python3",
      "display_name": "Python 3"
    }
  },
  "cells": [
    {
      "cell_type": "markdown",
      "metadata": {
        "id": "view-in-github",
        "colab_type": "text"
      },
      "source": [
        "<a href=\"https://colab.research.google.com/github/rampselv/dataanalytics/blob/master/minmaxnorm.ipynb\" target=\"_parent\"><img src=\"https://colab.research.google.com/assets/colab-badge.svg\" alt=\"Open In Colab\"/></a>"
      ]
    },
    {
      "cell_type": "code",
      "metadata": {
        "id": "yX5SgCIwfKJk",
        "colab_type": "code",
        "outputId": "5220457b-dc86-4c5c-81e3-ffeb1559e1ed",
        "colab": {
          "base_uri": "https://localhost:8080/",
          "height": 34
        }
      },
      "source": [
        "from keras.models import Sequential\n",
        "from keras.layers import Dense\n",
        "import numpy as np"
      ],
      "execution_count": 0,
      "outputs": [
        {
          "output_type": "stream",
          "text": [
            "Using TensorFlow backend.\n"
          ],
          "name": "stderr"
        }
      ]
    },
    {
      "cell_type": "code",
      "metadata": {
        "id": "vCAgNLK1fU2W",
        "colab_type": "code",
        "colab": {}
      },
      "source": [
        "from sklearn.datasets import load_iris\n",
        "from sklearn.preprocessing import StandardScaler,OneHotEncoder\n",
        "from sklearn.model_selection import train_test_split"
      ],
      "execution_count": 0,
      "outputs": []
    },
    {
      "cell_type": "code",
      "metadata": {
        "id": "pozc16Z9f-D8",
        "colab_type": "code",
        "outputId": "c6c6b4a9-89b5-40eb-88a9-8166e72e536a",
        "colab": {
          "base_uri": "https://localhost:8080/",
          "height": 51
        }
      },
      "source": [
        "iris = load_iris()\n",
        "print(iris.feature_names)\n",
        "print(iris.target_names)"
      ],
      "execution_count": 0,
      "outputs": [
        {
          "output_type": "stream",
          "text": [
            "['sepal length (cm)', 'sepal width (cm)', 'petal length (cm)', 'petal width (cm)']\n",
            "['setosa' 'versicolor' 'virginica']\n"
          ],
          "name": "stdout"
        }
      ]
    },
    {
      "cell_type": "code",
      "metadata": {
        "id": "qCU11ad5g_uv",
        "colab_type": "code",
        "colab": {}
      },
      "source": [
        "input_data = iris.data"
      ],
      "execution_count": 0,
      "outputs": []
    },
    {
      "cell_type": "code",
      "metadata": {
        "id": "x4b7pc_7hZsB",
        "colab_type": "code",
        "colab": {}
      },
      "source": [
        "target_class = iris.target"
      ],
      "execution_count": 0,
      "outputs": []
    },
    {
      "cell_type": "code",
      "metadata": {
        "id": "fjLW4Ct4hf71",
        "colab_type": "code",
        "colab": {}
      },
      "source": [
        "scaler = StandardScaler()\n",
        "input_scaled = scaler.fit_transform(input_data)"
      ],
      "execution_count": 0,
      "outputs": []
    },
    {
      "cell_type": "code",
      "metadata": {
        "id": "Ua1j5AeehsVj",
        "colab_type": "code",
        "outputId": "0398cf92-5e32-4b72-ac3e-98a1effc5d87",
        "colab": {
          "base_uri": "https://localhost:8080/",
          "height": 105
        }
      },
      "source": [
        "enc = OneHotEncoder()\n",
        "hot_target_class = enc.fit_transform(target_class[:, np.newaxis]).toarray()"
      ],
      "execution_count": 0,
      "outputs": [
        {
          "output_type": "stream",
          "text": [
            "/usr/local/lib/python3.6/dist-packages/sklearn/preprocessing/_encoders.py:415: FutureWarning: The handling of integer data will change in version 0.22. Currently, the categories are determined based on the range [0, max(values)], while in the future they will be determined based on the unique values.\n",
            "If you want the future behaviour and silence this warning, you can specify \"categories='auto'\".\n",
            "In case you used a LabelEncoder before this OneHotEncoder to convert the categories to integers, then you can now use the OneHotEncoder directly.\n",
            "  warnings.warn(msg, FutureWarning)\n"
          ],
          "name": "stderr"
        }
      ]
    },
    {
      "cell_type": "code",
      "metadata": {
        "id": "AR50lzY6h1Ou",
        "colab_type": "code",
        "colab": {}
      },
      "source": [
        "x_train,x_test,y_train,y_test = train_test_split(input_scaled,hot_target_class,test_size=0.3)"
      ],
      "execution_count": 0,
      "outputs": []
    },
    {
      "cell_type": "code",
      "metadata": {
        "id": "z3QfSUxJiWOM",
        "colab_type": "code",
        "colab": {}
      },
      "source": [
        "from sklearn.preprocessing import MinMaxScaler\n",
        "scalar=MinMaxScaler((-1,1))\n",
        "inout_scaled =scalar.fit_transform(input_data)\n"
      ],
      "execution_count": 0,
      "outputs": []
    },
    {
      "cell_type": "code",
      "metadata": {
        "id": "t8wM1qsHl8y0",
        "colab_type": "code",
        "colab": {}
      },
      "source": [
        "model = Sequential()"
      ],
      "execution_count": 0,
      "outputs": []
    },
    {
      "cell_type": "code",
      "metadata": {
        "id": "iocYUh-el18r",
        "colab_type": "code",
        "colab": {}
      },
      "source": [
        "h1 = model.add(Dense(6,activation=\"relu\",input_dim=4))\n",
        "h2=model.add(Dense(5,activation=\"relu\"))\n",
        "h3=model.add(Dense(7,activation=\"relu\"))\n",
        "o = model.add(Dense(3,activation=\"softmax\"))"
      ],
      "execution_count": 0,
      "outputs": []
    },
    {
      "cell_type": "code",
      "metadata": {
        "id": "DGkq0PKolsnG",
        "colab_type": "code",
        "outputId": "88f2e336-51bd-47bb-c964-504d88ff3094",
        "colab": {
          "base_uri": "https://localhost:8080/",
          "height": 105
        }
      },
      "source": [
        "model.compile(loss=\"categorical_crossentropy\",optimizer=\"Adam\",metrics=['accuracy'])"
      ],
      "execution_count": 0,
      "outputs": [
        {
          "output_type": "stream",
          "text": [
            "W0820 05:57:11.288853 140262967650176 deprecation_wrapper.py:119] From /usr/local/lib/python3.6/dist-packages/keras/optimizers.py:790: The name tf.train.Optimizer is deprecated. Please use tf.compat.v1.train.Optimizer instead.\n",
            "\n",
            "W0820 05:57:11.324404 140262967650176 deprecation_wrapper.py:119] From /usr/local/lib/python3.6/dist-packages/keras/backend/tensorflow_backend.py:3295: The name tf.log is deprecated. Please use tf.math.log instead.\n",
            "\n"
          ],
          "name": "stderr"
        }
      ]
    },
    {
      "cell_type": "code",
      "metadata": {
        "id": "DvQG5Rx0mcH-",
        "colab_type": "code",
        "outputId": "a1f72ef9-3424-4391-a0ea-8874e72b77b5",
        "colab": {
          "base_uri": "https://localhost:8080/",
          "height": 272
        }
      },
      "source": [
        "model.summary()"
      ],
      "execution_count": 0,
      "outputs": [
        {
          "output_type": "stream",
          "text": [
            "_________________________________________________________________\n",
            "Layer (type)                 Output Shape              Param #   \n",
            "=================================================================\n",
            "dense_5 (Dense)              (None, 6)                 30        \n",
            "_________________________________________________________________\n",
            "dense_6 (Dense)              (None, 5)                 35        \n",
            "_________________________________________________________________\n",
            "dense_7 (Dense)              (None, 7)                 42        \n",
            "_________________________________________________________________\n",
            "dense_8 (Dense)              (None, 3)                 24        \n",
            "=================================================================\n",
            "Total params: 131\n",
            "Trainable params: 131\n",
            "Non-trainable params: 0\n",
            "_________________________________________________________________\n"
          ],
          "name": "stdout"
        }
      ]
    },
    {
      "cell_type": "code",
      "metadata": {
        "id": "DQuOOd67mka7",
        "colab_type": "code",
        "outputId": "5fa463f4-1dc7-4f1b-cc8f-4cdbb2a2830f",
        "colab": {
          "base_uri": "https://localhost:8080/",
          "height": 1000
        }
      },
      "source": [
        "model.fit(x_train,y_train,batch_size=10,epochs=50)"
      ],
      "execution_count": 0,
      "outputs": [
        {
          "output_type": "stream",
          "text": [
            "W0820 05:58:52.227563 140262967650176 deprecation.py:323] From /usr/local/lib/python3.6/dist-packages/tensorflow/python/ops/math_grad.py:1250: add_dispatch_support.<locals>.wrapper (from tensorflow.python.ops.array_ops) is deprecated and will be removed in a future version.\n",
            "Instructions for updating:\n",
            "Use tf.where in 2.0, which has the same broadcast rule as np.where\n",
            "W0820 05:58:52.291759 140262967650176 deprecation_wrapper.py:119] From /usr/local/lib/python3.6/dist-packages/keras/backend/tensorflow_backend.py:986: The name tf.assign_add is deprecated. Please use tf.compat.v1.assign_add instead.\n",
            "\n"
          ],
          "name": "stderr"
        },
        {
          "output_type": "stream",
          "text": [
            "Epoch 1/50\n",
            "105/105 [==============================] - 1s 8ms/step - loss: 1.0882 - acc: 0.5048\n",
            "Epoch 2/50\n",
            "105/105 [==============================] - 0s 191us/step - loss: 1.0692 - acc: 0.5238\n",
            "Epoch 3/50\n",
            "105/105 [==============================] - 0s 176us/step - loss: 1.0487 - acc: 0.5429\n",
            "Epoch 4/50\n",
            "105/105 [==============================] - 0s 157us/step - loss: 1.0269 - acc: 0.5524\n",
            "Epoch 5/50\n",
            "105/105 [==============================] - 0s 173us/step - loss: 1.0055 - acc: 0.5524\n",
            "Epoch 6/50\n",
            "105/105 [==============================] - 0s 178us/step - loss: 0.9795 - acc: 0.6000\n",
            "Epoch 7/50\n",
            "105/105 [==============================] - 0s 169us/step - loss: 0.9512 - acc: 0.6190\n",
            "Epoch 8/50\n",
            "105/105 [==============================] - 0s 163us/step - loss: 0.9184 - acc: 0.6381\n",
            "Epoch 9/50\n",
            "105/105 [==============================] - 0s 167us/step - loss: 0.8817 - acc: 0.6476\n",
            "Epoch 10/50\n",
            "105/105 [==============================] - 0s 168us/step - loss: 0.8446 - acc: 0.6476\n",
            "Epoch 11/50\n",
            "105/105 [==============================] - 0s 178us/step - loss: 0.8045 - acc: 0.6476\n",
            "Epoch 12/50\n",
            "105/105 [==============================] - 0s 210us/step - loss: 0.7675 - acc: 0.6571\n",
            "Epoch 13/50\n",
            "105/105 [==============================] - 0s 192us/step - loss: 0.7302 - acc: 0.6571\n",
            "Epoch 14/50\n",
            "105/105 [==============================] - 0s 187us/step - loss: 0.6922 - acc: 0.6571\n",
            "Epoch 15/50\n",
            "105/105 [==============================] - 0s 162us/step - loss: 0.6558 - acc: 0.6762\n",
            "Epoch 16/50\n",
            "105/105 [==============================] - 0s 184us/step - loss: 0.6246 - acc: 0.6762\n",
            "Epoch 17/50\n",
            "105/105 [==============================] - 0s 188us/step - loss: 0.5972 - acc: 0.6571\n",
            "Epoch 18/50\n",
            "105/105 [==============================] - 0s 168us/step - loss: 0.5731 - acc: 0.6857\n",
            "Epoch 19/50\n",
            "105/105 [==============================] - 0s 185us/step - loss: 0.5518 - acc: 0.7810\n",
            "Epoch 20/50\n",
            "105/105 [==============================] - 0s 180us/step - loss: 0.5336 - acc: 0.8381\n",
            "Epoch 21/50\n",
            "105/105 [==============================] - 0s 174us/step - loss: 0.5171 - acc: 0.6952\n",
            "Epoch 22/50\n",
            "105/105 [==============================] - 0s 164us/step - loss: 0.5030 - acc: 0.6857\n",
            "Epoch 23/50\n",
            "105/105 [==============================] - 0s 166us/step - loss: 0.4910 - acc: 0.6667\n",
            "Epoch 24/50\n",
            "105/105 [==============================] - 0s 283us/step - loss: 0.4794 - acc: 0.6667\n",
            "Epoch 25/50\n",
            "105/105 [==============================] - 0s 183us/step - loss: 0.4697 - acc: 0.6667\n",
            "Epoch 26/50\n",
            "105/105 [==============================] - 0s 159us/step - loss: 0.4610 - acc: 0.6667\n",
            "Epoch 27/50\n",
            "105/105 [==============================] - 0s 167us/step - loss: 0.4538 - acc: 0.6667\n",
            "Epoch 28/50\n",
            "105/105 [==============================] - 0s 166us/step - loss: 0.4462 - acc: 0.6667\n",
            "Epoch 29/50\n",
            "105/105 [==============================] - 0s 174us/step - loss: 0.4399 - acc: 0.6667\n",
            "Epoch 30/50\n",
            "105/105 [==============================] - 0s 181us/step - loss: 0.4340 - acc: 0.6667\n",
            "Epoch 31/50\n",
            "105/105 [==============================] - 0s 153us/step - loss: 0.4283 - acc: 0.6667\n",
            "Epoch 32/50\n",
            "105/105 [==============================] - 0s 193us/step - loss: 0.4226 - acc: 0.6667\n",
            "Epoch 33/50\n",
            "105/105 [==============================] - 0s 170us/step - loss: 0.4177 - acc: 0.6667\n",
            "Epoch 34/50\n",
            "105/105 [==============================] - 0s 171us/step - loss: 0.4124 - acc: 0.6667\n",
            "Epoch 35/50\n",
            "105/105 [==============================] - 0s 168us/step - loss: 0.4078 - acc: 0.6857\n",
            "Epoch 36/50\n",
            "105/105 [==============================] - 0s 235us/step - loss: 0.4024 - acc: 0.6857\n",
            "Epoch 37/50\n",
            "105/105 [==============================] - 0s 190us/step - loss: 0.3975 - acc: 0.6857\n",
            "Epoch 38/50\n",
            "105/105 [==============================] - 0s 197us/step - loss: 0.3923 - acc: 0.7143\n",
            "Epoch 39/50\n",
            "105/105 [==============================] - 0s 193us/step - loss: 0.3880 - acc: 0.7714\n",
            "Epoch 40/50\n",
            "105/105 [==============================] - 0s 182us/step - loss: 0.3825 - acc: 0.8000\n",
            "Epoch 41/50\n",
            "105/105 [==============================] - 0s 183us/step - loss: 0.3772 - acc: 0.8190\n",
            "Epoch 42/50\n",
            "105/105 [==============================] - 0s 185us/step - loss: 0.3719 - acc: 0.8476\n",
            "Epoch 43/50\n",
            "105/105 [==============================] - 0s 172us/step - loss: 0.3669 - acc: 0.8476\n",
            "Epoch 44/50\n",
            "105/105 [==============================] - 0s 168us/step - loss: 0.3611 - acc: 0.8476\n",
            "Epoch 45/50\n",
            "105/105 [==============================] - 0s 158us/step - loss: 0.3561 - acc: 0.8667\n",
            "Epoch 46/50\n",
            "105/105 [==============================] - 0s 158us/step - loss: 0.3503 - acc: 0.8667\n",
            "Epoch 47/50\n",
            "105/105 [==============================] - 0s 168us/step - loss: 0.3445 - acc: 0.8667\n",
            "Epoch 48/50\n",
            "105/105 [==============================] - 0s 204us/step - loss: 0.3391 - acc: 0.8762\n",
            "Epoch 49/50\n",
            "105/105 [==============================] - 0s 179us/step - loss: 0.3329 - acc: 0.8857\n",
            "Epoch 50/50\n",
            "105/105 [==============================] - 0s 194us/step - loss: 0.3270 - acc: 0.8857\n"
          ],
          "name": "stdout"
        },
        {
          "output_type": "execute_result",
          "data": {
            "text/plain": [
              "<keras.callbacks.History at 0x7f9141b99fd0>"
            ]
          },
          "metadata": {
            "tags": []
          },
          "execution_count": 20
        }
      ]
    },
    {
      "cell_type": "code",
      "metadata": {
        "id": "L3wzNkrlm0wP",
        "colab_type": "code",
        "outputId": "7ce7c82b-058a-4ead-c418-0271c46397c5",
        "colab": {
          "base_uri": "https://localhost:8080/",
          "height": 51
        }
      },
      "source": [
        " score = model.evaluate(x_test,y_test, verbose=0)\n",
        " print('Test loss:', score[0])\n",
        " print('Test accuracy:', score[1])"
      ],
      "execution_count": 0,
      "outputs": [
        {
          "output_type": "stream",
          "text": [
            "Test loss: 0.4055971741676331\n",
            "Test accuracy: 0.8000000066227383\n"
          ],
          "name": "stdout"
        }
      ]
    },
    {
      "cell_type": "code",
      "metadata": {
        "id": "ufTWHbrLnRiA",
        "colab_type": "code",
        "colab": {}
      },
      "source": [
        ""
      ],
      "execution_count": 0,
      "outputs": []
    },
    {
      "cell_type": "code",
      "metadata": {
        "id": "6I8gsnYzllIr",
        "colab_type": "code",
        "colab": {}
      },
      "source": [
        ""
      ],
      "execution_count": 0,
      "outputs": []
    },
    {
      "cell_type": "code",
      "metadata": {
        "id": "3DaRS9yrkwgH",
        "colab_type": "code",
        "colab": {}
      },
      "source": [
        ""
      ],
      "execution_count": 0,
      "outputs": []
    }
  ]
}