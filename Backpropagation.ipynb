{
  "nbformat": 4,
  "nbformat_minor": 0,
  "metadata": {
    "colab": {
      "name": "Backpropagation.ipynb",
      "version": "0.3.2",
      "provenance": [],
      "include_colab_link": true
    },
    "kernelspec": {
      "name": "python3",
      "display_name": "Python 3"
    }
  },
  "cells": [
    {
      "cell_type": "markdown",
      "metadata": {
        "id": "view-in-github",
        "colab_type": "text"
      },
      "source": [
        "<a href=\"https://colab.research.google.com/github/rampselv/dataanalytics/blob/master/Backpropagation.ipynb\" target=\"_parent\"><img src=\"https://colab.research.google.com/assets/colab-badge.svg\" alt=\"Open In Colab\"/></a>"
      ]
    },
    {
      "cell_type": "code",
      "metadata": {
        "id": "VlwzMVl4wBEj",
        "colab_type": "code",
        "colab": {}
      },
      "source": [
        "from keras.models import Sequential\n",
        "from keras.layers import Dense\n",
        "from keras.optimizers import Adam \n",
        "import numpy as np\n"
      ],
      "execution_count": 0,
      "outputs": []
    },
    {
      "cell_type": "code",
      "metadata": {
        "id": "EVwkpLENwYBq",
        "colab_type": "code",
        "outputId": "949b2bfa-c967-4ce3-b289-af1ca41ff9b8",
        "colab": {
          "base_uri": "https://localhost:8080/",
          "height": 51
        }
      },
      "source": [
        "input = np.array([[1,0,1]])\n",
        "print(input)\n",
        "output = np.array([[1,0]])\n",
        "print(output)"
      ],
      "execution_count": 0,
      "outputs": [
        {
          "output_type": "stream",
          "text": [
            "[[1 0 1]]\n",
            "[[1 0]]\n"
          ],
          "name": "stdout"
        }
      ]
    },
    {
      "cell_type": "code",
      "metadata": {
        "id": "y_CPNz-zwejh",
        "colab_type": "code",
        "outputId": "a7fc6515-9adf-47ec-8939-e41bcbd2cf8e",
        "colab": {
          "base_uri": "https://localhost:8080/",
          "height": 156
        }
      },
      "source": [
        "model = Sequential()\n",
        "#Add two hidden and one output layer\n",
        "h1 = model.add(Dense(2,activation=\"sigmoid\",input_dim=3))\n",
        "h2=model.add(Dense(3,activation=\"sigmoid\"))\n",
        "o = model.add(Dense(2,activation='sigmoid'))"
      ],
      "execution_count": 0,
      "outputs": [
        {
          "output_type": "stream",
          "text": [
            "WARNING: Logging before flag parsing goes to stderr.\n",
            "W0827 10:06:21.201775 140617367029632 deprecation_wrapper.py:119] From /usr/local/lib/python3.6/dist-packages/keras/backend/tensorflow_backend.py:74: The name tf.get_default_graph is deprecated. Please use tf.compat.v1.get_default_graph instead.\n",
            "\n",
            "W0827 10:06:21.246906 140617367029632 deprecation_wrapper.py:119] From /usr/local/lib/python3.6/dist-packages/keras/backend/tensorflow_backend.py:517: The name tf.placeholder is deprecated. Please use tf.compat.v1.placeholder instead.\n",
            "\n",
            "W0827 10:06:21.255689 140617367029632 deprecation_wrapper.py:119] From /usr/local/lib/python3.6/dist-packages/keras/backend/tensorflow_backend.py:4138: The name tf.random_uniform is deprecated. Please use tf.random.uniform instead.\n",
            "\n"
          ],
          "name": "stderr"
        }
      ]
    },
    {
      "cell_type": "code",
      "metadata": {
        "id": "30OjeS5ew8eM",
        "colab_type": "code",
        "outputId": "47a0342d-d496-46ec-ba13-33dcd7bda4a7",
        "colab": {
          "base_uri": "https://localhost:8080/",
          "height": 173
        }
      },
      "source": [
        "#initial weights\n",
        "model.layers[0].get_weights()"
      ],
      "execution_count": 0,
      "outputs": [
        {
          "output_type": "stream",
          "text": [
            "W0827 06:29:27.352648 140023925626752 deprecation_wrapper.py:119] From /usr/local/lib/python3.6/dist-packages/keras/backend/tensorflow_backend.py:174: The name tf.get_default_session is deprecated. Please use tf.compat.v1.get_default_session instead.\n",
            "\n",
            "W0827 06:29:27.357496 140023925626752 deprecation_wrapper.py:119] From /usr/local/lib/python3.6/dist-packages/keras/backend/tensorflow_backend.py:181: The name tf.ConfigProto is deprecated. Please use tf.compat.v1.ConfigProto instead.\n",
            "\n"
          ],
          "name": "stderr"
        },
        {
          "output_type": "execute_result",
          "data": {
            "text/plain": [
              "[array([[ 0.05028677, -0.5777493 ],\n",
              "        [-0.66406226,  1.017664  ],\n",
              "        [-1.050328  ,  0.18597972]], dtype=float32),\n",
              " array([0., 0.], dtype=float32)]"
            ]
          },
          "metadata": {
            "tags": []
          },
          "execution_count": 8
        }
      ]
    },
    {
      "cell_type": "code",
      "metadata": {
        "id": "_DRDZoiTw92A",
        "colab_type": "code",
        "colab": {}
      },
      "source": [
        "wlayer1= np.array([[0.2,-0.3],[0.4,0.1],[-0.5,0.2]])\n",
        "wbias = np.array([-0.4,.2])\n",
        "li=[]\n",
        "li.append(wlayer1)\n",
        "li.append(wbias)\n",
        "model.layers[0].set_weights(li) "
      ],
      "execution_count": 0,
      "outputs": []
    },
    {
      "cell_type": "code",
      "metadata": {
        "id": "wn0Gl99GxGzj",
        "colab_type": "code",
        "colab": {}
      },
      "source": [
        "wlayer2= np.array([[-0.3,0.2,0.6],[-0.2,-0.1,-0.2]])\n",
        "wbias2= np.array([0.1,0.1,0.2])\n",
        "li=  []\n",
        "li.append(wlayer2)\n",
        "li.append(wbias2)\n",
        "model.layers[1].set_weights(li)"
      ],
      "execution_count": 0,
      "outputs": []
    },
    {
      "cell_type": "code",
      "metadata": {
        "id": "2gdSVdy4xQED",
        "colab_type": "code",
        "colab": {}
      },
      "source": [
        "wlayer3= np.array([[0.3,0.2],[-0.5,0.5],[-0.7,0.2]])\n",
        "wbias3= np.array([0.1,0.2])\n",
        "li=  []\n",
        "li.append(wlayer3)\n",
        "li.append(wbias3)\n",
        "model.layers[2].set_weights(li) "
      ],
      "execution_count": 0,
      "outputs": []
    },
    {
      "cell_type": "code",
      "metadata": {
        "id": "Yt8oIDrfxoMY",
        "colab_type": "code",
        "outputId": "2edc8365-b837-43de-eb03-2e3a7184a7e5",
        "colab": {
          "base_uri": "https://localhost:8080/",
          "height": 292
        }
      },
      "source": [
        "model.compile(loss=\"mean_squared_error\",optimizer=Adam(lr=.9),metrics=['accuracy'])\n",
        "model.summary()"
      ],
      "execution_count": 0,
      "outputs": [
        {
          "output_type": "stream",
          "text": [
            "W0827 10:18:52.408755 140617367029632 deprecation_wrapper.py:119] From /usr/local/lib/python3.6/dist-packages/keras/optimizers.py:790: The name tf.train.Optimizer is deprecated. Please use tf.compat.v1.train.Optimizer instead.\n",
            "\n"
          ],
          "name": "stderr"
        },
        {
          "output_type": "stream",
          "text": [
            "_________________________________________________________________\n",
            "Layer (type)                 Output Shape              Param #   \n",
            "=================================================================\n",
            "dense_1 (Dense)              (None, 2)                 8         \n",
            "_________________________________________________________________\n",
            "dense_2 (Dense)              (None, 3)                 9         \n",
            "_________________________________________________________________\n",
            "dense_3 (Dense)              (None, 2)                 8         \n",
            "=================================================================\n",
            "Total params: 25\n",
            "Trainable params: 25\n",
            "Non-trainable params: 0\n",
            "_________________________________________________________________\n"
          ],
          "name": "stdout"
        }
      ]
    },
    {
      "cell_type": "code",
      "metadata": {
        "id": "BsJ_-4UPyBgr",
        "colab_type": "code",
        "outputId": "9a006f2c-6384-4d4c-a516-9bd34df78375",
        "colab": {
          "base_uri": "https://localhost:8080/",
          "height": 1000
        }
      },
      "source": [
        "model.fit(input,output,batch_size=1,epochs=50,verbose=2)"
      ],
      "execution_count": 0,
      "outputs": [
        {
          "output_type": "stream",
          "text": [
            "Epoch 1/50\n",
            " - 0s - loss: 0.4019 - acc: 0.0000e+00\n",
            "Epoch 2/50\n",
            " - 0s - loss: 0.0530 - acc: 1.0000\n",
            "Epoch 3/50\n",
            " - 0s - loss: 0.0027 - acc: 1.0000\n",
            "Epoch 4/50\n",
            " - 0s - loss: 2.7966e-04 - acc: 1.0000\n",
            "Epoch 5/50\n",
            " - 0s - loss: 4.1806e-05 - acc: 1.0000\n",
            "Epoch 6/50\n",
            " - 0s - loss: 8.1709e-06 - acc: 1.0000\n",
            "Epoch 7/50\n",
            " - 0s - loss: 1.9699e-06 - acc: 1.0000\n",
            "Epoch 8/50\n",
            " - 0s - loss: 5.6338e-07 - acc: 1.0000\n",
            "Epoch 9/50\n",
            " - 0s - loss: 1.8586e-07 - acc: 1.0000\n",
            "Epoch 10/50\n",
            " - 0s - loss: 6.9216e-08 - acc: 1.0000\n",
            "Epoch 11/50\n",
            " - 0s - loss: 2.8624e-08 - acc: 1.0000\n",
            "Epoch 12/50\n",
            " - 0s - loss: 1.2962e-08 - acc: 1.0000\n",
            "Epoch 13/50\n",
            " - 0s - loss: 6.3613e-09 - acc: 1.0000\n",
            "Epoch 14/50\n",
            " - 0s - loss: 3.3431e-09 - acc: 1.0000\n",
            "Epoch 15/50\n",
            " - 0s - loss: 1.8689e-09 - acc: 1.0000\n",
            "Epoch 16/50\n",
            " - 0s - loss: 1.1052e-09 - acc: 1.0000\n",
            "Epoch 17/50\n",
            " - 0s - loss: 6.8823e-10 - acc: 1.0000\n",
            "Epoch 18/50\n",
            " - 0s - loss: 4.4584e-10 - acc: 1.0000\n",
            "Epoch 19/50\n",
            " - 0s - loss: 3.0182e-10 - acc: 1.0000\n",
            "Epoch 20/50\n",
            " - 0s - loss: 2.1257e-10 - acc: 1.0000\n",
            "Epoch 21/50\n",
            " - 0s - loss: 1.5268e-10 - acc: 1.0000\n",
            "Epoch 22/50\n",
            " - 0s - loss: 1.1480e-10 - acc: 1.0000\n",
            "Epoch 23/50\n",
            " - 0s - loss: 8.6938e-11 - acc: 1.0000\n",
            "Epoch 24/50\n",
            " - 0s - loss: 6.8945e-11 - acc: 1.0000\n",
            "Epoch 25/50\n",
            " - 0s - loss: 5.4958e-11 - acc: 1.0000\n",
            "Epoch 26/50\n",
            " - 0s - loss: 4.5079e-11 - acc: 1.0000\n",
            "Epoch 27/50\n",
            " - 0s - loss: 3.7477e-11 - acc: 1.0000\n",
            "Epoch 28/50\n",
            " - 0s - loss: 3.1690e-11 - acc: 1.0000\n",
            "Epoch 29/50\n",
            " - 0s - loss: 2.7369e-11 - acc: 1.0000\n",
            "Epoch 30/50\n",
            " - 0s - loss: 2.3518e-11 - acc: 1.0000\n",
            "Epoch 31/50\n",
            " - 0s - loss: 2.0749e-11 - acc: 1.0000\n",
            "Epoch 32/50\n",
            " - 0s - loss: 1.8241e-11 - acc: 1.0000\n",
            "Epoch 33/50\n",
            " - 0s - loss: 1.6567e-11 - acc: 1.0000\n",
            "Epoch 34/50\n",
            " - 0s - loss: 1.5029e-11 - acc: 1.0000\n",
            "Epoch 35/50\n",
            " - 0s - loss: 1.4169e-11 - acc: 1.0000\n",
            "Epoch 36/50\n",
            " - 0s - loss: 1.2825e-11 - acc: 1.0000\n",
            "Epoch 37/50\n",
            " - 0s - loss: 1.2095e-11 - acc: 1.0000\n",
            "Epoch 38/50\n",
            " - 0s - loss: 1.1409e-11 - acc: 1.0000\n",
            "Epoch 39/50\n",
            " - 0s - loss: 1.0764e-11 - acc: 1.0000\n",
            "Epoch 40/50\n",
            " - 0s - loss: 1.0153e-11 - acc: 1.0000\n",
            "Epoch 41/50\n",
            " - 0s - loss: 9.5729e-12 - acc: 1.0000\n",
            "Epoch 42/50\n",
            " - 0s - loss: 9.0215e-12 - acc: 1.0000\n",
            "Epoch 43/50\n",
            " - 0s - loss: 8.9438e-12 - acc: 1.0000\n",
            "Epoch 44/50\n",
            " - 0s - loss: 8.4285e-12 - acc: 1.0000\n",
            "Epoch 45/50\n",
            " - 0s - loss: 7.9360e-12 - acc: 1.0000\n",
            "Epoch 46/50\n",
            " - 0s - loss: 7.8841e-12 - acc: 1.0000\n",
            "Epoch 47/50\n",
            " - 0s - loss: 7.8384e-12 - acc: 1.0000\n",
            "Epoch 48/50\n",
            " - 0s - loss: 7.3789e-12 - acc: 1.0000\n",
            "Epoch 49/50\n",
            " - 0s - loss: 7.3433e-12 - acc: 1.0000\n",
            "Epoch 50/50\n",
            " - 0s - loss: 7.3117e-12 - acc: 1.0000\n"
          ],
          "name": "stdout"
        },
        {
          "output_type": "execute_result",
          "data": {
            "text/plain": [
              "<keras.callbacks.History at 0x7fe3c9a25320>"
            ]
          },
          "metadata": {
            "tags": []
          },
          "execution_count": 17
        }
      ]
    },
    {
      "cell_type": "code",
      "metadata": {
        "id": "GOjibNDXyYh7",
        "colab_type": "code",
        "outputId": "60de2339-b31d-47f3-f863-8a88b5a9a2ba",
        "colab": {
          "base_uri": "https://localhost:8080/",
          "height": 173
        }
      },
      "source": [
        "print(model.layers[0].get_weights())\n",
        "print(model.layers[1].get_weights())\n",
        "print(model.layers[2].get_weights())\n"
      ],
      "execution_count": 0,
      "outputs": [
        {
          "output_type": "stream",
          "text": [
            "[array([[-4.76151  ,  4.4430275],\n",
            "       [ 0.4      ,  0.1      ],\n",
            "       [-5.4615107,  4.943028 ]], dtype=float32), array([-5.3615103,  4.943028 ], dtype=float32)]\n",
            "[array([[ 6.444714 , -4.7905855, -4.323098 ],\n",
            "       [ 6.3956842, -4.52126  , -3.927562 ]], dtype=float32), array([ 7.06991  , -4.589737 , -4.0928087], dtype=float32)]\n",
            "[array([[ 6.6167607, -6.947487 ],\n",
            "       [ 4.897478 , -5.248495 ],\n",
            "       [ 4.6810975, -5.5177693]], dtype=float32), array([ 5.9778624, -6.384845 ], dtype=float32)]\n"
          ],
          "name": "stdout"
        }
      ]
    },
    {
      "cell_type": "code",
      "metadata": {
        "id": "Pgygu4wvynI7",
        "colab_type": "code",
        "outputId": "c579004a-ba59-41c1-d051-55e469c10e0f",
        "colab": {
          "base_uri": "https://localhost:8080/",
          "height": 34
        }
      },
      "source": [
        "newoutput= model.predict(input)\n",
        "print(newoutput)"
      ],
      "execution_count": 0,
      "outputs": [
        {
          "output_type": "stream",
          "text": [
            "[[9.9999666e-01 1.6173582e-06]]\n"
          ],
          "name": "stdout"
        }
      ]
    }
  ]
}