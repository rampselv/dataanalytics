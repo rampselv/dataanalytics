{
  "nbformat": 4,
  "nbformat_minor": 0,
  "metadata": {
    "colab": {
      "name": "Ex 7 PCA1.ipynb",
      "version": "0.3.2",
      "provenance": [],
      "include_colab_link": true
    },
    "kernelspec": {
      "name": "python3",
      "display_name": "Python 3"
    }
  },
  "cells": [
    {
      "cell_type": "markdown",
      "metadata": {
        "id": "view-in-github",
        "colab_type": "text"
      },
      "source": [
        "<a href=\"https://colab.research.google.com/github/rampselv/dataanalytics/blob/master/Ex_7_PCA1.ipynb\" target=\"_parent\"><img src=\"https://colab.research.google.com/assets/colab-badge.svg\" alt=\"Open In Colab\"/></a>"
      ]
    },
    {
      "cell_type": "code",
      "metadata": {
        "id": "dK6pdgtaVvaE",
        "colab_type": "code",
        "outputId": "8a01b8c6-eeba-4856-a89f-3c101bcc4bf5",
        "colab": {
          "base_uri": "https://localhost:8080/",
          "height": 34
        }
      },
      "source": [
        "import pandas as pd\n",
        "data = pd.read_csv('iris.csv')\n",
        "list(data.columns)"
      ],
      "execution_count": 0,
      "outputs": [
        {
          "output_type": "execute_result",
          "data": {
            "text/plain": [
              "['sepal.length', 'sepal.width', 'petal.length', 'petal.width', 'variety']"
            ]
          },
          "metadata": {
            "tags": []
          },
          "execution_count": 15
        }
      ]
    },
    {
      "cell_type": "code",
      "metadata": {
        "id": "PdGPF_9CWE-J",
        "colab_type": "code",
        "colab": {}
      },
      "source": [
        "import numpy as np\n",
        "mean_sepallen = np.average(data['sepal.length'])\n",
        "mean_sepalwidth = np.average(data['sepal.width'])\n",
        "mean_petallen = np.average(data['petal.length'])\n",
        "mean_petalwidth = np.average(data['petal.width'])"
      ],
      "execution_count": 0,
      "outputs": []
    },
    {
      "cell_type": "code",
      "metadata": {
        "id": "ndJ4X2R6m8Ud",
        "colab_type": "code",
        "outputId": "594251c7-e47f-479b-ed15-a2c3600f75a0",
        "colab": {
          "base_uri": "https://localhost:8080/",
          "height": 286
        }
      },
      "source": [
        "org_data = data.iloc[:,0:4].values\n",
        "#sepal length and width\n",
        "plt.scatter(org_data[0],org_data[1])\n",
        "#sepal length and petal length\n",
        "plt.scatter(org_data[0],org_data[2])\n",
        "#sepal length and petal width\n",
        "plt.scatter(org_data[0],org_data[3])\n",
        "#petal length and petal width\n",
        "plt.scatter(org_data[2],org_data[3])"
      ],
      "execution_count": 0,
      "outputs": [
        {
          "output_type": "execute_result",
          "data": {
            "text/plain": [
              "<matplotlib.collections.PathCollection at 0x7f8e46d7b160>"
            ]
          },
          "metadata": {
            "tags": []
          },
          "execution_count": 75
        },
        {
          "output_type": "display_data",
          "data": {
            "image/png": "[encoded data removed]",
            "text/plain": [
              "<Figure size 432x288 with 1 Axes>"
            ]
          },
          "metadata": {
            "tags": []
          }
        }
      ]
    },
    {
      "cell_type": "code",
      "metadata": {
        "id": "WVyvmDk_X1MP",
        "colab_type": "code",
        "outputId": "c4ed33de-2809-4304-a0f1-b0a062984048",
        "colab": {
          "base_uri": "https://localhost:8080/",
          "height": 85
        }
      },
      "source": [
        "org_data = data.iloc[:,0:4].values\n",
        "mean_subtracted = np.mean(org_data,axis=0)\n",
        "mean_sub_value = org_data-mean_subtracted\n",
        "cov_mat = (org_data - mean_subtracted).T.dot((org_data - mean_subtracted))/(org_data.shape[0]-1)\n",
        "cov_mat"
      ],
      "execution_count": 0,
      "outputs": [
        {
          "output_type": "execute_result",
          "data": {
            "text/plain": [
              "array([[ 0.68569351, -0.042434  ,  1.27431544,  0.51627069],\n",
              "       [-0.042434  ,  0.18997942, -0.32965638, -0.12163937],\n",
              "       [ 1.27431544, -0.32965638,  3.11627785,  1.2956094 ],\n",
              "       [ 0.51627069, -0.12163937,  1.2956094 ,  0.58100626]])"
            ]
          },
          "metadata": {
            "tags": []
          },
          "execution_count": 53
        }
      ]
    },
    {
      "cell_type": "code",
      "metadata": {
        "id": "9p3r0_h0c4W4",
        "colab_type": "code",
        "outputId": "96bd3982-d33e-4e13-f754-d8e89da06d2d",
        "colab": {
          "base_uri": "https://localhost:8080/",
          "height": 102
        }
      },
      "source": [
        "value,vector = np.linalg.eig(cov_mat)\n",
        "print(\"Eigen value:\",value)\n",
        "print(\"Eigen vector:\",vector)"
      ],
      "execution_count": 0,
      "outputs": [
        {
          "output_type": "stream",
          "text": [
            "Eigen value: [4.22824171 0.24267075 0.0782095  0.02383509]\n",
            "Eigen vector: [[ 0.36138659 -0.65658877 -0.58202985  0.31548719]\n",
            " [-0.08452251 -0.73016143  0.59791083 -0.3197231 ]\n",
            " [ 0.85667061  0.17337266  0.07623608 -0.47983899]\n",
            " [ 0.3582892   0.07548102  0.54583143  0.75365743]]\n"
          ],
          "name": "stdout"
        }
      ]
    },
    {
      "cell_type": "code",
      "metadata": {
        "id": "c9l_mB2ldLRW",
        "colab_type": "code",
        "outputId": "bc84aabd-07b6-4670-96f8-b04251139f9f",
        "colab": {
          "base_uri": "https://localhost:8080/",
          "height": 85
        }
      },
      "source": [
        "eigen_value = value[0:2]\n",
        "eigen_vector = vector[:,0:2]\n",
        "print(eigen_value)\n",
        "eigen_vector\n"
      ],
      "execution_count": 0,
      "outputs": [
        {
          "output_type": "execute_result",
          "data": {
            "text/plain": [
              "array([[ 0.36138659, -0.65658877],\n",
              "       [-0.08452251, -0.73016143],\n",
              "       [ 0.85667061,  0.17337266],\n",
              "       [ 0.3582892 ,  0.07548102]])"
            ]
          },
          "metadata": {
            "tags": []
          },
          "execution_count": 34
        }
      ]
    },
    {
      "cell_type": "code",
      "metadata": {
        "id": "_t0QG8MPeAcx",
        "colab_type": "code",
        "outputId": "b4e5ff99-cf47-4feb-a109-6d6f08dc2fc8",
        "colab": {
          "base_uri": "https://localhost:8080/",
          "height": 1000
        }
      },
      "source": [
        "projected_values = np.dot(mean_sub_value,eigen_vector)\n",
        "projected_values"
      ],
      "execution_count": 0,
      "outputs": [
        {
          "output_type": "execute_result",
          "data": {
            "text/plain": [
              "array([[-2.68412563, -0.31939725],\n",
              "       [-2.71414169,  0.17700123],\n",
              "       [-2.88899057,  0.14494943],\n",
              "       [-2.74534286,  0.31829898],\n",
              "       [-2.72871654, -0.32675451],\n",
              "       [-2.28085963, -0.74133045],\n",
              "       [-2.82053775,  0.08946138],\n",
              "       [-2.62614497, -0.16338496],\n",
              "       [-2.88638273,  0.57831175],\n",
              "       [-2.6727558 ,  0.11377425],\n",
              "       [-2.50694709, -0.6450689 ],\n",
              "       [-2.61275523, -0.01472994],\n",
              "       [-2.78610927,  0.235112  ],\n",
              "       [-3.22380374,  0.51139459],\n",
              "       [-2.64475039, -1.17876464],\n",
              "       [-2.38603903, -1.33806233],\n",
              "       [-2.62352788, -0.81067951],\n",
              "       [-2.64829671, -0.31184914],\n",
              "       [-2.19982032, -0.87283904],\n",
              "       [-2.5879864 , -0.51356031],\n",
              "       [-2.31025622, -0.39134594],\n",
              "       [-2.54370523, -0.43299606],\n",
              "       [-3.21593942, -0.13346807],\n",
              "       [-2.30273318, -0.09870885],\n",
              "       [-2.35575405,  0.03728186],\n",
              "       [-2.50666891,  0.14601688],\n",
              "       [-2.46882007, -0.13095149],\n",
              "       [-2.56231991, -0.36771886],\n",
              "       [-2.63953472, -0.31203998],\n",
              "       [-2.63198939,  0.19696122],\n",
              "       [-2.58739848,  0.20431849],\n",
              "       [-2.4099325 , -0.41092426],\n",
              "       [-2.64886233, -0.81336382],\n",
              "       [-2.59873675, -1.09314576],\n",
              "       [-2.63692688,  0.12132235],\n",
              "       [-2.86624165, -0.06936447],\n",
              "       [-2.62523805, -0.59937002],\n",
              "       [-2.80068412, -0.26864374],\n",
              "       [-2.98050204,  0.48795834],\n",
              "       [-2.59000631, -0.22904384],\n",
              "       [-2.77010243, -0.26352753],\n",
              "       [-2.84936871,  0.94096057],\n",
              "       [-2.99740655,  0.34192606],\n",
              "       [-2.40561449, -0.18887143],\n",
              "       [-2.20948924, -0.43666314],\n",
              "       [-2.71445143,  0.2502082 ],\n",
              "       [-2.53814826, -0.50377114],\n",
              "       [-2.83946217,  0.22794557],\n",
              "       [-2.54308575, -0.57941002],\n",
              "       [-2.70335978, -0.10770608],\n",
              "       [ 1.28482569, -0.68516047],\n",
              "       [ 0.93248853, -0.31833364],\n",
              "       [ 1.46430232, -0.50426282],\n",
              "       [ 0.18331772,  0.82795901],\n",
              "       [ 1.08810326, -0.07459068],\n",
              "       [ 0.64166908,  0.41824687],\n",
              "       [ 1.09506066, -0.28346827],\n",
              "       [-0.74912267,  1.00489096],\n",
              "       [ 1.04413183, -0.2283619 ],\n",
              "       [-0.0087454 ,  0.72308191],\n",
              "       [-0.50784088,  1.26597119],\n",
              "       [ 0.51169856,  0.10398124],\n",
              "       [ 0.26497651,  0.55003646],\n",
              "       [ 0.98493451,  0.12481785],\n",
              "       [-0.17392537,  0.25485421],\n",
              "       [ 0.92786078, -0.46717949],\n",
              "       [ 0.66028376,  0.35296967],\n",
              "       [ 0.23610499,  0.33361077],\n",
              "       [ 0.94473373,  0.54314555],\n",
              "       [ 0.04522698,  0.58383438],\n",
              "       [ 1.11628318,  0.08461685],\n",
              "       [ 0.35788842,  0.06892503],\n",
              "       [ 1.29818388,  0.32778731],\n",
              "       [ 0.92172892,  0.18273779],\n",
              "       [ 0.71485333, -0.14905594],\n",
              "       [ 0.90017437, -0.32850447],\n",
              "       [ 1.33202444, -0.24444088],\n",
              "       [ 1.55780216, -0.26749545],\n",
              "       [ 0.81329065,  0.1633503 ],\n",
              "       [-0.30558378,  0.36826219],\n",
              "       [-0.06812649,  0.70517213],\n",
              "       [-0.18962247,  0.68028676],\n",
              "       [ 0.13642871,  0.31403244],\n",
              "       [ 1.38002644,  0.42095429],\n",
              "       [ 0.58800644,  0.48428742],\n",
              "       [ 0.80685831, -0.19418231],\n",
              "       [ 1.22069088, -0.40761959],\n",
              "       [ 0.81509524,  0.37203706],\n",
              "       [ 0.24595768,  0.2685244 ],\n",
              "       [ 0.16641322,  0.68192672],\n",
              "       [ 0.46480029,  0.67071154],\n",
              "       [ 0.8908152 ,  0.03446444],\n",
              "       [ 0.23054802,  0.40438585],\n",
              "       [-0.70453176,  1.01224823],\n",
              "       [ 0.35698149,  0.50491009],\n",
              "       [ 0.33193448,  0.21265468],\n",
              "       [ 0.37621565,  0.29321893],\n",
              "       [ 0.64257601, -0.01773819],\n",
              "       [-0.90646986,  0.75609337],\n",
              "       [ 0.29900084,  0.34889781],\n",
              "       [ 2.53119273,  0.00984911],\n",
              "       [ 1.41523588,  0.57491635],\n",
              "       [ 2.61667602, -0.34390315],\n",
              "       [ 1.97153105,  0.1797279 ],\n",
              "       [ 2.35000592,  0.04026095],\n",
              "       [ 3.39703874, -0.55083667],\n",
              "       [ 0.52123224,  1.19275873],\n",
              "       [ 2.93258707, -0.3555    ],\n",
              "       [ 2.32122882,  0.2438315 ],\n",
              "       [ 2.91675097, -0.78279195],\n",
              "       [ 1.66177415, -0.24222841],\n",
              "       [ 1.80340195,  0.21563762],\n",
              "       [ 2.1655918 , -0.21627559],\n",
              "       [ 1.34616358,  0.77681835],\n",
              "       [ 1.58592822,  0.53964071],\n",
              "       [ 1.90445637, -0.11925069],\n",
              "       [ 1.94968906, -0.04194326],\n",
              "       [ 3.48705536, -1.17573933],\n",
              "       [ 3.79564542, -0.25732297],\n",
              "       [ 1.30079171,  0.76114964],\n",
              "       [ 2.42781791, -0.37819601],\n",
              "       [ 1.19900111,  0.60609153],\n",
              "       [ 3.49992004, -0.4606741 ],\n",
              "       [ 1.38876613,  0.20439933],\n",
              "       [ 2.2754305 , -0.33499061],\n",
              "       [ 2.61409047, -0.56090136],\n",
              "       [ 1.25850816,  0.17970479],\n",
              "       [ 1.29113206,  0.11666865],\n",
              "       [ 2.12360872,  0.20972948],\n",
              "       [ 2.38800302, -0.4646398 ],\n",
              "       [ 2.84167278, -0.37526917],\n",
              "       [ 3.23067366, -1.37416509],\n",
              "       [ 2.15943764,  0.21727758],\n",
              "       [ 1.44416124,  0.14341341],\n",
              "       [ 1.78129481,  0.49990168],\n",
              "       [ 3.07649993, -0.68808568],\n",
              "       [ 2.14424331, -0.1400642 ],\n",
              "       [ 1.90509815, -0.04930053],\n",
              "       [ 1.16932634,  0.16499026],\n",
              "       [ 2.10761114, -0.37228787],\n",
              "       [ 2.31415471, -0.18365128],\n",
              "       [ 1.9222678 , -0.40920347],\n",
              "       [ 1.41523588,  0.57491635],\n",
              "       [ 2.56301338, -0.2778626 ],\n",
              "       [ 2.41874618, -0.3047982 ],\n",
              "       [ 1.94410979, -0.1875323 ],\n",
              "       [ 1.52716661,  0.37531698],\n",
              "       [ 1.76434572, -0.07885885],\n",
              "       [ 1.90094161, -0.11662796],\n",
              "       [ 1.39018886,  0.28266094]])"
            ]
          },
          "metadata": {
            "tags": []
          },
          "execution_count": 54
        }
      ]
    },
    {
      "cell_type": "code",
      "metadata": {
        "id": "mPWdJinljrvD",
        "colab_type": "code",
        "outputId": "57a22977-029f-46dd-d000-349314656a69",
        "colab": {
          "base_uri": "https://localhost:8080/",
          "height": 1000
        }
      },
      "source": [
        "#shepherds plot\n",
        "from sklearn.metrics.pairwise import euclidean_distances\n",
        "import matplotlib.pyplot as plt\n",
        "dist_x = euclidean_distances(mean_sub_value,mean_sub_value)\n",
        "dist_y = euclidean_distances(projected_values,projected_values)\n",
        "plt.scatter(dist_x,dist_y)\n",
        "plt.plot(dist_x,dist_y)"
      ],
      "execution_count": 0,
      "outputs": [
        {
          "output_type": "execute_result",
          "data": {
            "text/plain": [
              "[<matplotlib.lines.Line2D at 0x7f8e471004a8>,\n",
              " <matplotlib.lines.Line2D at 0x7f8e49986518>,\n",
              " <matplotlib.lines.Line2D at 0x7f8e49986668>,\n",
              " <matplotlib.lines.Line2D at 0x7f8e499867b8>,\n",
              " <matplotlib.lines.Line2D at 0x7f8e49986908>,\n",
              " <matplotlib.lines.Line2D at 0x7f8e49986a58>,\n",
              " <matplotlib.lines.Line2D at 0x7f8e49986ba8>,\n",
              " <matplotlib.lines.Line2D at 0x7f8e49986cf8>,\n",
              " <matplotlib.lines.Line2D at 0x7f8e49986e48>,\n",
              " <matplotlib.lines.Line2D at 0x7f8e49986f98>,\n",
              " <matplotlib.lines.Line2D at 0x7f8e470ccc88>,\n",
              " <matplotlib.lines.Line2D at 0x7f8e49981240>,\n",
              " <matplotlib.lines.Line2D at 0x7f8e49981390>,\n",
              " <matplotlib.lines.Line2D at 0x7f8e499814e0>,\n",
              " <matplotlib.lines.Line2D at 0x7f8e49981630>,\n",
              " <matplotlib.lines.Line2D at 0x7f8e49981780>,\n",
              " <matplotlib.lines.Line2D at 0x7f8e499818d0>,\n",
              " <matplotlib.lines.Line2D at 0x7f8e49981a20>,\n",
              " <matplotlib.lines.Line2D at 0x7f8e49981b70>,\n",
              " <matplotlib.lines.Line2D at 0x7f8e49981cc0>,\n",
              " <matplotlib.lines.Line2D at 0x7f8e49981e10>,\n",
              " <matplotlib.lines.Line2D at 0x7f8e49981f60>,\n",
              " <matplotlib.lines.Line2D at 0x7f8e4997b0f0>,\n",
              " <matplotlib.lines.Line2D at 0x7f8e4997b240>,\n",
              " <matplotlib.lines.Line2D at 0x7f8e4997b390>,\n",
              " <matplotlib.lines.Line2D at 0x7f8e4997b4e0>,\n",
              " <matplotlib.lines.Line2D at 0x7f8e4997b630>,\n",
              " <matplotlib.lines.Line2D at 0x7f8e4997b780>,\n",
              " <matplotlib.lines.Line2D at 0x7f8e4997b8d0>,\n",
              " <matplotlib.lines.Line2D at 0x7f8e4997ba20>,\n",
              " <matplotlib.lines.Line2D at 0x7f8e4997bb70>,\n",
              " <matplotlib.lines.Line2D at 0x7f8e4997bcc0>,\n",
              " <matplotlib.lines.Line2D at 0x7f8e4997be10>,\n",
              " <matplotlib.lines.Line2D at 0x7f8e4997bf60>,\n",
              " <matplotlib.lines.Line2D at 0x7f8e4707a0f0>,\n",
              " <matplotlib.lines.Line2D at 0x7f8e4707a240>,\n",
              " <matplotlib.lines.Line2D at 0x7f8e4707a390>,\n",
              " <matplotlib.lines.Line2D at 0x7f8e4707a4e0>,\n",
              " <matplotlib.lines.Line2D at 0x7f8e4707a630>,\n",
              " <matplotlib.lines.Line2D at 0x7f8e4707a780>,\n",
              " <matplotlib.lines.Line2D at 0x7f8e4707a8d0>,\n",
              " <matplotlib.lines.Line2D at 0x7f8e4707aa20>,\n",
              " <matplotlib.lines.Line2D at 0x7f8e4707ab70>,\n",
              " <matplotlib.lines.Line2D at 0x7f8e4707acc0>,\n",
              " <matplotlib.lines.Line2D at 0x7f8e4707ae10>,\n",
              " <matplotlib.lines.Line2D at 0x7f8e4707af60>,\n",
              " <matplotlib.lines.Line2D at 0x7f8e470800f0>,\n",
              " <matplotlib.lines.Line2D at 0x7f8e47080240>,\n",
              " <matplotlib.lines.Line2D at 0x7f8e47080390>,\n",
              " <matplotlib.lines.Line2D at 0x7f8e470804e0>,\n",
              " <matplotlib.lines.Line2D at 0x7f8e47080630>,\n",
              " <matplotlib.lines.Line2D at 0x7f8e47080780>,\n",
              " <matplotlib.lines.Line2D at 0x7f8e470808d0>,\n",
              " <matplotlib.lines.Line2D at 0x7f8e47080a20>,\n",
              " <matplotlib.lines.Line2D at 0x7f8e47080b70>,\n",
              " <matplotlib.lines.Line2D at 0x7f8e47080cc0>,\n",
              " <matplotlib.lines.Line2D at 0x7f8e47080e10>,\n",
              " <matplotlib.lines.Line2D at 0x7f8e47080f60>,\n",
              " <matplotlib.lines.Line2D at 0x7f8e470840f0>,\n",
              " <matplotlib.lines.Line2D at 0x7f8e47084240>,\n",
              " <matplotlib.lines.Line2D at 0x7f8e47084390>,\n",
              " <matplotlib.lines.Line2D at 0x7f8e470844e0>,\n",
              " <matplotlib.lines.Line2D at 0x7f8e47084630>,\n",
              " <matplotlib.lines.Line2D at 0x7f8e47084780>,\n",
              " <matplotlib.lines.Line2D at 0x7f8e470848d0>,\n",
              " <matplotlib.lines.Line2D at 0x7f8e47084a20>,\n",
              " <matplotlib.lines.Line2D at 0x7f8e47084b70>,\n",
              " <matplotlib.lines.Line2D at 0x7f8e47084cc0>,\n",
              " <matplotlib.lines.Line2D at 0x7f8e47084e10>,\n",
              " <matplotlib.lines.Line2D at 0x7f8e47084f60>,\n",
              " <matplotlib.lines.Line2D at 0x7f8e4708b0f0>,\n",
              " <matplotlib.lines.Line2D at 0x7f8e4708b240>,\n",
              " <matplotlib.lines.Line2D at 0x7f8e4708b390>,\n",
              " <matplotlib.lines.Line2D at 0x7f8e4708b4e0>,\n",
              " <matplotlib.lines.Line2D at 0x7f8e4708b630>,\n",
              " <matplotlib.lines.Line2D at 0x7f8e4708b780>,\n",
              " <matplotlib.lines.Line2D at 0x7f8e4708b8d0>,\n",
              " <matplotlib.lines.Line2D at 0x7f8e4708ba20>,\n",
              " <matplotlib.lines.Line2D at 0x7f8e4708bb70>,\n",
              " <matplotlib.lines.Line2D at 0x7f8e4708bcc0>,\n",
              " <matplotlib.lines.Line2D at 0x7f8e4708be10>,\n",
              " <matplotlib.lines.Line2D at 0x7f8e4708bf60>,\n",
              " <matplotlib.lines.Line2D at 0x7f8e4708f0f0>,\n",
              " <matplotlib.lines.Line2D at 0x7f8e4708f240>,\n",
              " <matplotlib.lines.Line2D at 0x7f8e4708f390>,\n",
              " <matplotlib.lines.Line2D at 0x7f8e4708f4e0>,\n",
              " <matplotlib.lines.Line2D at 0x7f8e4708f630>,\n",
              " <matplotlib.lines.Line2D at 0x7f8e4708f780>,\n",
              " <matplotlib.lines.Line2D at 0x7f8e4708f8d0>,\n",
              " <matplotlib.lines.Line2D at 0x7f8e4708fa20>,\n",
              " <matplotlib.lines.Line2D at 0x7f8e4708fb70>,\n",
              " <matplotlib.lines.Line2D at 0x7f8e4708fcc0>,\n",
              " <matplotlib.lines.Line2D at 0x7f8e4708fe10>,\n",
              " <matplotlib.lines.Line2D at 0x7f8e4708ff60>,\n",
              " <matplotlib.lines.Line2D at 0x7f8e470950f0>,\n",
              " <matplotlib.lines.Line2D at 0x7f8e47095240>,\n",
              " <matplotlib.lines.Line2D at 0x7f8e47095390>,\n",
              " <matplotlib.lines.Line2D at 0x7f8e470954e0>,\n",
              " <matplotlib.lines.Line2D at 0x7f8e47095630>,\n",
              " <matplotlib.lines.Line2D at 0x7f8e47095780>,\n",
              " <matplotlib.lines.Line2D at 0x7f8e470958d0>,\n",
              " <matplotlib.lines.Line2D at 0x7f8e47095a20>,\n",
              " <matplotlib.lines.Line2D at 0x7f8e47095b70>,\n",
              " <matplotlib.lines.Line2D at 0x7f8e47095cc0>,\n",
              " <matplotlib.lines.Line2D at 0x7f8e47095e10>,\n",
              " <matplotlib.lines.Line2D at 0x7f8e47095f60>,\n",
              " <matplotlib.lines.Line2D at 0x7f8e470990f0>,\n",
              " <matplotlib.lines.Line2D at 0x7f8e47099240>,\n",
              " <matplotlib.lines.Line2D at 0x7f8e47099390>,\n",
              " <matplotlib.lines.Line2D at 0x7f8e470994e0>,\n",
              " <matplotlib.lines.Line2D at 0x7f8e47099630>,\n",
              " <matplotlib.lines.Line2D at 0x7f8e47099780>,\n",
              " <matplotlib.lines.Line2D at 0x7f8e470998d0>,\n",
              " <matplotlib.lines.Line2D at 0x7f8e47099a20>,\n",
              " <matplotlib.lines.Line2D at 0x7f8e47099b70>,\n",
              " <matplotlib.lines.Line2D at 0x7f8e47099cc0>,\n",
              " <matplotlib.lines.Line2D at 0x7f8e47099e10>,\n",
              " <matplotlib.lines.Line2D at 0x7f8e47099f60>,\n",
              " <matplotlib.lines.Line2D at 0x7f8e470a00f0>,\n",
              " <matplotlib.lines.Line2D at 0x7f8e470a0240>,\n",
              " <matplotlib.lines.Line2D at 0x7f8e470a0390>,\n",
              " <matplotlib.lines.Line2D at 0x7f8e470a04e0>,\n",
              " <matplotlib.lines.Line2D at 0x7f8e470a0630>,\n",
              " <matplotlib.lines.Line2D at 0x7f8e470a0780>,\n",
              " <matplotlib.lines.Line2D at 0x7f8e470a08d0>,\n",
              " <matplotlib.lines.Line2D at 0x7f8e470a0a20>,\n",
              " <matplotlib.lines.Line2D at 0x7f8e470a0b70>,\n",
              " <matplotlib.lines.Line2D at 0x7f8e470a0cc0>,\n",
              " <matplotlib.lines.Line2D at 0x7f8e470a0e10>,\n",
              " <matplotlib.lines.Line2D at 0x7f8e470a0f60>,\n",
              " <matplotlib.lines.Line2D at 0x7f8e470240f0>,\n",
              " <matplotlib.lines.Line2D at 0x7f8e47024240>,\n",
              " <matplotlib.lines.Line2D at 0x7f8e47024390>,\n",
              " <matplotlib.lines.Line2D at 0x7f8e470244e0>,\n",
              " <matplotlib.lines.Line2D at 0x7f8e47024630>,\n",
              " <matplotlib.lines.Line2D at 0x7f8e47024780>,\n",
              " <matplotlib.lines.Line2D at 0x7f8e470248d0>,\n",
              " <matplotlib.lines.Line2D at 0x7f8e47024a20>,\n",
              " <matplotlib.lines.Line2D at 0x7f8e47024b70>,\n",
              " <matplotlib.lines.Line2D at 0x7f8e47024cc0>,\n",
              " <matplotlib.lines.Line2D at 0x7f8e47024e10>,\n",
              " <matplotlib.lines.Line2D at 0x7f8e47024f60>,\n",
              " <matplotlib.lines.Line2D at 0x7f8e4702a0f0>,\n",
              " <matplotlib.lines.Line2D at 0x7f8e4702a240>,\n",
              " <matplotlib.lines.Line2D at 0x7f8e4702a390>,\n",
              " <matplotlib.lines.Line2D at 0x7f8e4702a4e0>,\n",
              " <matplotlib.lines.Line2D at 0x7f8e4702a630>,\n",
              " <matplotlib.lines.Line2D at 0x7f8e4702a780>,\n",
              " <matplotlib.lines.Line2D at 0x7f8e4702a8d0>,\n",
              " <matplotlib.lines.Line2D at 0x7f8e4702aa20>]"
            ]
          },
          "metadata": {
            "tags": []
          },
          "execution_count": 60
        },
        {
          "output_type": "display_data",
          "data": {
            "image/png": "[encoded data removed]",
            "text/plain": [
              "<Figure size 432x288 with 1 Axes>"
            ]
          },
          "metadata": {
            "tags": []
          }
        }
      ]
    },
    {
      "cell_type": "code",
      "metadata": {
        "id": "Fx8ufQXzlA55",
        "colab_type": "code",
        "outputId": "7918d6a5-d01c-4367-e7b3-07e335c44580",
        "colab": {
          "base_uri": "https://localhost:8080/",
          "height": 34
        }
      },
      "source": [
        "#projection error (1-(1/n))*eigen_values(i)\n",
        "#where i is between q+1 to p\n",
        "error_len = (1-(1/len(data.index)))\n",
        "sum_eigen_val=value[2]+value[3]\n",
        "error = error_len*sum_eigen_val\n",
        "error"
      ],
      "execution_count": 0,
      "outputs": [
        {
          "output_type": "execute_result",
          "data": {
            "text/plain": [
              "0.10136429572959268"
            ]
          },
          "metadata": {
            "tags": []
          },
          "execution_count": 70
        }
      ]
    }
  ]
}